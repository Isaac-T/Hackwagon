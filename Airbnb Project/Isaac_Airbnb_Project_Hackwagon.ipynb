{
 "cells": [
  {
   "cell_type": "markdown",
   "metadata": {},
   "source": [
    "<img src=\"https://i2.wp.com/hackwagon.com/wp-content/uploads/2017/02/Logo-Web-Export.png?ssl=1\" width=200/>\n",
    "\n",
    "<h1>Hackwagon Academy - DS101 </h1>\n",
    "\n",
    "<h1>AirBnB Project</h1>\n",
    "\n",
    "<b>Learning Outcomes:</b>\n",
    "\n",
    "- Learn how to translate business requirements into workable applications\n",
    "- Declare variables, and manipulate the variables to perform arithmetic operations\n",
    "- Create a list, append new elements to a list, remove elements from list, and access elements within a list\n",
    "- Create a dictionary, access data, and update information within the dictionary\n",
    "- Be able to aptly make use of if and nested if constructs\n",
    "- Variable conversion\n",
    "- Produce visualisations\n",
    "- Able to come up with insights based on the data "
   ]
  },
  {
   "cell_type": "code",
   "execution_count": null,
   "metadata": {},
   "outputs": [],
   "source": [
    "Name : Tan Wee Long\n",
    "    \n",
    "Start of Course Class: 13 Jan 2019 12.15pm\n",
    "    \n",
    "    \n",
    "# FOR TA/INSTRUCTOR \n",
    "# Total Marks:  / 100\n",
    "# Part 1:  / 5\n",
    "# Part 2:  / 25\n",
    "# Part 3:  / 10\n",
    "# Part 4:  / 60"
   ]
  },
  {
   "cell_type": "markdown",
   "metadata": {},
   "source": [
    "<div class=\"alert alert-block alert-info\">\n",
    "\n",
    "This project is split into 4 different parts:\n",
    "1. Data Cleaning (5 marks)\n",
    "2. Explorator Data Analysis (25 marks)\n",
    "3. Interpretation (10 marks)\n",
    "4. AirBnB Visualisation and Price Recommender App (60 marks)\n",
    "\n",
    "<b>All code must follow expected output to be awarded full marks except the following:</b>\n",
    "1. Interpretation \n",
    "2. Functions creation in part 4 (all attempts regardless right or wrong count as 2 marks each)\n",
    "</div>"
   ]
  },
  {
   "cell_type": "markdown",
   "metadata": {},
   "source": [
    "<h2> References </h2>\n",
    "\n",
    "<h3> <center> Important Collections Functions </center> </h3>\n",
    "<h3> <center> Creation </center></h3>\n",
    "\n",
    "|Collection Type | Function | Examples |\n",
    "| ---------|---------|---------|\n",
    "| `list` | <center>None</center>| `new_list = []` <br><br> `new_list = [1,2,3,4]` |\n",
    "| `dict` | <center>None</center>| `new_dict = {}` <br><br> `new_dict = {'a': 1, 'b':2}`|\n",
    "\n",
    "<h3><center> Add / Appending Data </center></h3>\n",
    "\n",
    "|Collection Type | Functions | Examples | Resulting Output|\n",
    "| ---------|---------|---------| ------ |\n",
    "| `list` | <center>`.append()`</center>| `new_list = [1,2,3]` <br><br> `new_list.append(4)` | `[1,2,3,4]`|\n",
    "| `list` | <center>`.extend()`</center>| `new_list = [1,2]` <br><br> `new_list.extend([3,4])` | `[1,2,3,4]`|\n",
    "| `dict` | <center>None</center>| `new_dict = {}` <br><br> `new_dict['a'] = 1` <br><br> `new_dict['b'] = 2` | `{'a': 1, 'b':2}`|\n",
    "\n",
    "<h3> <center> Updating / Changing Data </center></h3>\n",
    "\n",
    "|Collection Type | Functions | Examples | Resulting Output|\n",
    "| ---------|---------|---------| ------ |\n",
    "| `list` | <center>None</center>| `new_list = [1,2,3]` <br><br> `new_list[0] = 5` | `[5,2,3]`|\n",
    "| `dict` | <center>None</center>| `new_dict = {'a': 1, 'b':2}` <br><br> `new_dict['a'] = 10`| `{'a': 10, 'b':2}`|\n",
    "\n",
    "<h3> <center> Accessing / Taking Out Data </center></h3>\n",
    "\n",
    "|Collection Type | Functions | x to be| Examples |\n",
    "| ---------|---------|---------| ------ |\n",
    "| `list` | <center>None</center>| 3 |`new_list = [1,2,3]` <br><br> `x = new_list[2] `|\n",
    "| `list of list` | <center>None</center>|3 |`new_list = [[1,2],[3,4]]` <br><br> `x = new_list[1][0] `|\n",
    "| `list of dict` | <center>None</center>| 2 |`new_list = [{'a':1},{'b':2}]` <br><br> `x = new_list[1]['b'] `|\n",
    "| `dict` | <center>None</center>| 2|`new_dict = {'a': 1, 'b':2}` <br><br> `x = new_dict['b']`|\n",
    "\n",
    "<h3>CITU Framework & Applied Iterations</h3>\n",
    "\n",
    "1. What variables do you need to answer this question?\n",
    "1. <b>Create</b> the results container\n",
    "2. <b>Iterate</b> the input data/list\n",
    "3. <b>Take out the variables you needed in step 1</b>\n",
    "3. <b>Test</b> conditions of each value\n",
    "4. <b>Update</b> the results container when condition is fulfilled\n",
    "\n",
    "<h3> Sorting Values</h3>\n",
    "\n",
    "```python\n",
    "    \n",
    "x = [10,20,50,2,4]\n",
    "x.sort()\n",
    "print(x) # [2,4,10,20,50]\n",
    "x.sort(reverse=True)\n",
    "print(x) # [50,20,10,4,2]\n",
    "```\n",
    "Further explore the .sort() function in the documentation\n",
    "\n",
    "Search up 'list .sort() python 3.0' \n"
   ]
  },
  {
   "cell_type": "markdown",
   "metadata": {},
   "source": [
    "<hr>\n",
    "\n",
    "</hr>\n",
    "<br>\n",
    "</br>\n",
    "\n",
    "<img src=\"http://www.stickpng.com/assets/images/580b57fcd9996e24bc43c513.png\" width=\"400\">\n",
    "<br>\n",
    "</br>\n",
    "<br>\n",
    "</br>\n",
    "\n",
    "<b>Welcome to your final project of Hackwagon Academy DS101! You've come a long way since the start of this course and if you've been on track with our exercises, you should find this doable. </b>\n",
    "\n",
    "Airbnb is an online marketplace and hospitality service, enabling people to lease or rent short-term lodging including vacation rentals, apartment rentals, homestays, hostel beds, or hotel rooms. The company does not own any lodging; it is merely a broker and receives percentage service fees (commissions) from both guests and hosts in conjunction with every booking. In this project, we aim to use algorithms and libraries to mine the reviews people have submitted on Singapore AirBnB rentals in order to provide descriptive analytics.\n",
    "\n",
    "\n",
    "<h2> Load File </h2>\n",
    "\n",
    "Load the `airbnb_data.csv` as <b>a list of dictionaries</b> into a new variable called `airbnb_data`. Once you load the data, you should see something like this:\n",
    "```python\n",
    "    [\n",
    "        {\n",
    "         'listing_id': '1133718',\n",
    "         'survey_id': '1280',\n",
    "         'host_id': '6219420',\n",
    "         'room_type': 'Shared room',\n",
    "         'country': '',\n",
    "         'city': 'Singapore',\n",
    "         'borough': '',\n",
    "         'neighborhood': 'MK03',\n",
    "         'reviews': '9',\n",
    "         'overall_satisfaction': '4.5',\n",
    "         'accommodates': '12',\n",
    "         'bedrooms': '1.0',\n",
    "         'bathrooms': '',\n",
    "         'price': '74.0',\n",
    "         'minstay': '',\n",
    "         'last_modified': '2017-05-17 09:10:25.431659',\n",
    "         'latitude': '1.293354',\n",
    "         'longitude': '103.769226',\n",
    "         'location': '0101000020E6100000E84EB0FF3AF159409C69C2F693B1F43F'\n",
    "        }\n",
    "        ...\n",
    "    ]\n",
    "```"
   ]
  },
  {
   "cell_type": "code",
   "execution_count": 391,
   "metadata": {},
   "outputs": [
    {
     "data": {
      "text/plain": [
       "[{'listing_id': '1133718',\n",
       "  'survey_id': '1280',\n",
       "  'host_id': '6219420',\n",
       "  'room_type': 'Shared room',\n",
       "  'country': '',\n",
       "  'city': 'Singapore',\n",
       "  'borough': '',\n",
       "  'neighborhood': 'MK03',\n",
       "  'reviews': '9',\n",
       "  'overall_satisfaction': '4.5',\n",
       "  'accommodates': '12',\n",
       "  'bedrooms': '1.0',\n",
       "  'bathrooms': '',\n",
       "  'price': '74.0',\n",
       "  'minstay': '',\n",
       "  'last_modified': '2017-05-17 09:10:25.431659',\n",
       "  'latitude': '1.293354',\n",
       "  'longitude': '103.769226',\n",
       "  'location': '0101000020E6100000E84EB0FF3AF159409C69C2F693B1F43F'},\n",
       " {'listing_id': '3179080',\n",
       "  'survey_id': '1280',\n",
       "  'host_id': '15295886',\n",
       "  'room_type': 'Shared room',\n",
       "  'country': '',\n",
       "  'city': 'Singapore',\n",
       "  'borough': '',\n",
       "  'neighborhood': 'TS17',\n",
       "  'reviews': '15',\n",
       "  'overall_satisfaction': '5.0',\n",
       "  'accommodates': '12',\n",
       "  'bedrooms': '1.0',\n",
       "  'bathrooms': '',\n",
       "  'price': '77.0',\n",
       "  'minstay': '',\n",
       "  'last_modified': '2017-05-17 09:10:24.216548',\n",
       "  'latitude': '1.310862',\n",
       "  'longitude': '103.858828',\n",
       "  'location': '0101000020E6100000E738B709F7F659403F1BB96E4AF9F43F'}]"
      ]
     },
     "execution_count": 391,
     "metadata": {},
     "output_type": "execute_result"
    }
   ],
   "source": [
    "# Read file into a list called airbnb_data\n",
    "\n",
    "import csv\n",
    "\n",
    "with open('airbnb_data.csv') as f:  \n",
    "    reader = csv.reader(f, delimiter=',')  \n",
    "    airbnb_data = []\n",
    "    \n",
    "    for row in csv.DictReader(f):\n",
    "        airbnb_data.append(dict(row))\n",
    "        \n",
    "airbnb_data[:2]"
   ]
  },
  {
   "cell_type": "markdown",
   "metadata": {},
   "source": [
    "## Data Cleaning <font color='red'>(5 marks)</font>\n",
    "\n",
    "<b>Once this is done correctly, you do not need to change the type for the remaining parts of your project.</b>\n",
    "\n",
    "Preview your data and clean them to appropriate type. Namely these columns:\n",
    "1. `overall_satisfaction`\n",
    "2. `price`\n",
    "3. `longitude`\n",
    "4. `latitude`\n",
    "5. `reviews`\n",
    "\n",
    "<b>Expected Output:</b>\n",
    "```python\n",
    "    {\n",
    "        'listing_id': '1133718',\n",
    "        'survey_id': '1280',\n",
    "        'host_id': '6219420',\n",
    "        'room_type': 'Shared room',\n",
    "        'country': '',\n",
    "        'city': 'Singapore',\n",
    "        'borough': '',\n",
    "        'neighborhood': 'MK03',\n",
    "        'reviews': 9.0,\n",
    "        'overall_satisfaction': 4.5,\n",
    "        'accommodates': '12',\n",
    "        'bedrooms': '1.0',\n",
    "        'bathrooms': '',\n",
    "        'price': 74.0,\n",
    "        'minstay': '',\n",
    "        'last_modified': '2017-05-17 09:10:25.431659',\n",
    "        'latitude': 1.293354,\n",
    "        'longitude': 103.769226,\n",
    "        'location': '0101000020E6100000E84EB0FF3AF159409C69C2F693B1F43F'\n",
    "    }\n",
    "```"
   ]
  },
  {
   "cell_type": "code",
   "execution_count": 392,
   "metadata": {},
   "outputs": [
    {
     "data": {
      "text/plain": [
       "[{'listing_id': '1133718',\n",
       "  'survey_id': '1280',\n",
       "  'host_id': '6219420',\n",
       "  'room_type': 'Shared room',\n",
       "  'country': '',\n",
       "  'city': 'Singapore',\n",
       "  'borough': '',\n",
       "  'neighborhood': 'MK03',\n",
       "  'reviews': 9.0,\n",
       "  'overall_satisfaction': 4.5,\n",
       "  'accommodates': '12',\n",
       "  'bedrooms': '1.0',\n",
       "  'bathrooms': '',\n",
       "  'price': 74.0,\n",
       "  'minstay': '',\n",
       "  'last_modified': '2017-05-17 09:10:25.431659',\n",
       "  'latitude': 1.293354,\n",
       "  'longitude': 103.769226,\n",
       "  'location': '0101000020E6100000E84EB0FF3AF159409C69C2F693B1F43F'}]"
      ]
     },
     "execution_count": 392,
     "metadata": {},
     "output_type": "execute_result"
    }
   ],
   "source": [
    "#Write code below\n",
    "\n",
    "for row in airbnb_data:\n",
    "    \n",
    "    row['overall_satisfaction'] = float(row['overall_satisfaction'])\n",
    "    row['price'] = float(row['price'])\n",
    "    row['longitude'] = float(row['longitude'])\n",
    "    row['reviews'] = float(row['reviews'])\n",
    "    row['latitude'] = float(row['latitude'])\n",
    "    \n",
    "airbnb_data[:1]"
   ]
  },
  {
   "cell_type": "markdown",
   "metadata": {},
   "source": [
    "## Exploratory Data Analysis <font color='red'>(35 marks)</font>\n",
    "\n",
    "The data team at AirBnB wishes to find out the answers to a few simple questions on the existing listings in Singapore. Your goal is to manipulate the data you have stored in the list of dictionaries and <b>understand some of the basic statistics of your dataset.</b> The following are some of the common <i>first</i> questions asked."
   ]
  },
  {
   "cell_type": "markdown",
   "metadata": {},
   "source": [
    "<h4> Q1. List out each neighborhoods and their number of listings <font color='red'>(5 marks)</font></h4>\n",
    "\n",
    "<i> Hint\n",
    "1. Counting with dictionaries\n",
    "</i>\n",
    "\n",
    "<b>Expected Output:</b>\n",
    "\n",
    "    When you search for ['TS17'], it should give you 342 counts."
   ]
  },
  {
   "cell_type": "code",
   "execution_count": 393,
   "metadata": {},
   "outputs": [
    {
     "name": "stdout",
     "output_type": "stream",
     "text": [
      "TS17 would give us 342 counts\n"
     ]
    }
   ],
   "source": [
    "#Write code below\n",
    "\n",
    "neighborhood_listing = {}\n",
    "\n",
    "for row in airbnb_data:\n",
    "    neighborhood = row['neighborhood']\n",
    "    \n",
    "    if neighborhood not in neighborhood_listing:\n",
    "        neighborhood_listing[neighborhood] = 1\n",
    "        \n",
    "    else:\n",
    "        neighborhood_listing[neighborhood] += 1\n",
    "    \n",
    "search = 'TS17'\n",
    "count_result = neighborhood_listing[search]\n",
    "\n",
    "print(f'{search} would give us {count_result} counts')\n"
   ]
  },
  {
   "cell_type": "markdown",
   "metadata": {},
   "source": [
    "<h4> Q2. List out each neighborhood and their average overall_satisfaction <font color='red'>(5 marks)</font> </h4>\n",
    "\n",
    "<b>Note: You should filter out listings whose reviews are 0. </b>\n",
    "\n",
    "<i> Hint\n",
    "1. Create dictionary where key is the neighborhood_id and value is a list of overall_satisfaction\n",
    "2. Create another dictionary to compute the average\n",
    "</i>\n",
    "\n",
    "<b>Expected Output:</b>\n",
    "    \n",
    "    When you search for ['TS17'], it should give you an average score of 2.859447004608295."
   ]
  },
  {
   "cell_type": "code",
   "execution_count": 394,
   "metadata": {
    "scrolled": true
   },
   "outputs": [
    {
     "name": "stdout",
     "output_type": "stream",
     "text": [
      "TS17 would give us an average score of 2.859447004608295.\n"
     ]
    }
   ],
   "source": [
    "#Write code below\n",
    "\n",
    "#1. Create dictionary where key is the neighborhood_id and value is a list of overall_satisfaction\n",
    "neigh_overall_satisfaction = {}\n",
    "\n",
    "for row in airbnb_data:\n",
    "    reviews = row['reviews']\n",
    "    neighborhood_id= row['neighborhood']\n",
    "    overall_satisfactions = row['overall_satisfaction']\n",
    "       \n",
    "    if reviews > float(0):       \n",
    "            \n",
    "        if neighborhood_id not in neigh_overall_satisfaction:      \n",
    "            neigh_overall_satisfaction[neighborhood_id] = [overall_satisfactions]\n",
    "            \n",
    "        elif neighborhood_id in neigh_overall_satisfaction:\n",
    "            neigh_overall_satisfaction[neighborhood_id].append(overall_satisfactions)\n",
    "            \n",
    "\n",
    "#2. Create another dictionary to compute the average\n",
    "average_overall_satisfaction = {}\n",
    "\n",
    "for key,value in neigh_overall_satisfaction.items():\n",
    "    Total = sum(value)\n",
    "    Count = len(value)\n",
    "    \n",
    "    Average = Total/Count\n",
    "    \n",
    "    average_overall_satisfaction[key] = Average\n",
    "\n",
    "    \n",
    "search = 'TS17'\n",
    "satisfaction_result = average_overall_satisfaction[search]\n",
    "\n",
    "print(f'{search} would give us an average score of {satisfaction_result}.')\n",
    "    \n"
   ]
  },
  {
   "cell_type": "code",
   "execution_count": null,
   "metadata": {},
   "outputs": [],
   "source": []
  },
  {
   "cell_type": "markdown",
   "metadata": {},
   "source": [
    "<h4> Q3. List out each neighborhood and their average price <font color='red'>(5 marks)</font></h4>\n",
    "\n",
    "<i> Hint\n",
    "1. Similar to previous question\n",
    "</i>\n",
    "\n",
    "<b>Expected Output:</b>\n",
    "\n",
    "    When you search for ['TS17'], it should give you an average price of 95.5672514619883."
   ]
  },
  {
   "cell_type": "code",
   "execution_count": 395,
   "metadata": {
    "scrolled": true
   },
   "outputs": [
    {
     "name": "stdout",
     "output_type": "stream",
     "text": [
      "TS17 would give us an average price of 95.5672514619883.\n"
     ]
    }
   ],
   "source": [
    "#Write code below\n",
    "\n",
    "neighborhood_price = {}\n",
    "\n",
    "for row in airbnb_data:\n",
    "    neighborhood_id= row['neighborhood']\n",
    "    price = row['price']      \n",
    "            \n",
    "    if neighborhood_id not in neighborhood_price:      \n",
    "        neighborhood_price[neighborhood_id] = [price]\n",
    "            \n",
    "    elif neighborhood_id in neighborhood_price:\n",
    "        neighborhood_price[neighborhood_id].append(price)\n",
    "            \n",
    "\n",
    "average_price = {}\n",
    "\n",
    "for key,value in neighborhood_price.items():\n",
    "    Total = sum(value)\n",
    "    Count = len(value)\n",
    "    \n",
    "    Average = Total/Count\n",
    "    \n",
    "    average_price[key] = Average\n",
    "\n",
    "    \n",
    "    \n",
    "search = 'TS17'\n",
    "price_result = average_price[search]\n",
    "\n",
    "print(f'{search} would give us an average price of {price_result}.')\n",
    "\n"
   ]
  },
  {
   "cell_type": "markdown",
   "metadata": {},
   "source": [
    "<h4> Q4. Plot a distribution of counts of the overall_satisfaction <font color='red'>(5 marks)</font></h4>\n",
    "\n",
    "<b>Note: You should filter out listings whose reviews are 0. </b>\n",
    "\n",
    "<i> Hint\n",
    "1. Counting with dictionaries\n",
    "2. Get a list of tuples with `.items()`\n",
    "3. Create 2 lists: \n",
    "    - 1 for all the scores labels\n",
    "    - 1 for all the counts \n",
    "4. Plot with the 2 lists\n",
    "</i>\n",
    "\n",
    "<b>Expected Output:</b>\n",
    "\n",
    "<img src=\"https://i.imgur.com/bj0ecjO.png\" width=\"300\">"
   ]
  },
  {
   "cell_type": "code",
   "execution_count": 396,
   "metadata": {},
   "outputs": [
    {
     "data": {
      "text/plain": [
       "<function matplotlib.pyplot.show(*args, **kw)>"
      ]
     },
     "execution_count": 396,
     "metadata": {},
     "output_type": "execute_result"
    },
    {
     "data": {
      "image/png": "[encoded data removed]",
      "text/plain": [
       "<Figure size 432x288 with 1 Axes>"
      ]
     },
     "metadata": {
      "needs_background": "light"
     },
     "output_type": "display_data"
    }
   ],
   "source": [
    "# Remember to import the relevant library/libraries!\n",
    "\n",
    "import matplotlib.pyplot as plt\n",
    "%matplotlib inline\n",
    "\n",
    "# Write code below\n",
    "\n",
    "satisfaction_count = {}\n",
    "\n",
    "for row in airbnb_data:\n",
    "    satisfaction_rating = row['overall_satisfaction']\n",
    "    review = row['reviews']    \n",
    "    \n",
    "    if review > 0:\n",
    "    \n",
    "        if satisfaction_rating not in satisfaction_count:\n",
    "            satisfaction_count[satisfaction_rating] = 1\n",
    "        \n",
    "        else:\n",
    "            satisfaction_count[satisfaction_rating] += 1\n",
    "            \n",
    "scores = satisfaction_count.keys()            \n",
    "counts = satisfaction_count.values()\n",
    "\n",
    "plt.bar(scores, counts)\n",
    "\n",
    "plt.title('Distribution of Overall Satisfaction Scores')\n",
    "plt.ylabel('Counts')\n",
    "plt.xlabel('Overall Satisfaction Scores')\n",
    "\n",
    "plt.show\n"
   ]
  },
  {
   "cell_type": "code",
   "execution_count": null,
   "metadata": {},
   "outputs": [],
   "source": []
  },
  {
   "cell_type": "markdown",
   "metadata": {},
   "source": [
    "<h4> Q5. Plot a geographical representation of all of the listings in Singapore <font color='red'>(5 marks)</font></h4>\n",
    "\n",
    "<i> Hint\n",
    "1. Create a list for latitude\n",
    "2. Create a list for longitude\n",
    "3. Append each listing's latitude and logitude to the lists\n",
    "4. Plot a scatter plot using both lists\n",
    "</i>\n",
    "\n",
    "<b>Expected Output:</b>\n",
    "\n",
    "<img src='https://i.imgur.com/9Dp5HrD.png' width=\"300\">    "
   ]
  },
  {
   "cell_type": "code",
   "execution_count": 397,
   "metadata": {},
   "outputs": [
    {
     "data": {
      "text/plain": [
       "<function matplotlib.pyplot.show(*args, **kw)>"
      ]
     },
     "execution_count": 397,
     "metadata": {},
     "output_type": "execute_result"
    },
    {
     "data": {
      "image/png": "[encoded data removed]",
      "text/plain": [
       "<Figure size 432x288 with 1 Axes>"
      ]
     },
     "metadata": {
      "needs_background": "light"
     },
     "output_type": "display_data"
    }
   ],
   "source": [
    "#Write code below\n",
    "\n",
    "coordinates = {}\n",
    "\n",
    "for row in airbnb_data:\n",
    "    latitude = row['latitude']\n",
    "    longitude = row['longitude']\n",
    "    \n",
    "    coordinates[latitude] = longitude\n",
    "    \n",
    "latitudes = coordinates.keys()\n",
    "longitudes = coordinates.values()\n",
    "\n",
    "plt.scatter(longitudes, latitudes)\n",
    "\n",
    "plt.title('Geographical Representation of All Airbnb Listings in Singapore')\n",
    "plt.ylabel('Latitude')\n",
    "plt.xlabel('Longitude')\n",
    "\n",
    "plt.show\n",
    "    "
   ]
  },
  {
   "cell_type": "markdown",
   "metadata": {},
   "source": [
    "<h2> Interpretation <font color='red'>(10 marks)</font> </h2>\n",
    "\n",
    "Based on the earlier questions, answer the following questions to understand the Airbnb dataset better. \n",
    "\n",
    "<i>You're free to make some assumptions</i>\n",
    "\n",
    "#### Q1. Why do you think the `overall_satisfaction` is in intervals of 0.5 and not otherwise? <font color='red'>(5 marks)</font>"
   ]
  },
  {
   "cell_type": "code",
   "execution_count": null,
   "metadata": {},
   "outputs": [],
   "source": [
    "# Answer: \n",
    "\n",
    "#Overall Experience consist of Accuracy, Communication, Cleanliness, Location, Check-in, Value.\n",
    "\n",
    "1) There is no true numerical value to satisfaction and how each individual gives their ratings.\n",
    "\n",
    "In General, the rating scale should be based integers between 1-5. \n",
    "\n",
    "    5 - Excellent\n",
    "    4 - Very Good\n",
    "    3 - Average\n",
    "    2 - Below Average\n",
    "    1 - No Go\n",
    "\n",
    "I believe that introduction of 0.5 intervals gives customers more options to voice their opinion between 4 and 5 star rating.\n",
    "\n",
    "As there are many cases where the stay is extremely good with minor flaws. \n",
    "\n",
    "Customer might feel that 4 is under-rated and 5 is over-rated. So 4.5 star is the perfect number.\n",
    "\n",
    "That is why 0.5 interval is introduced.\n",
    "\n",
    "Any further denomination would make rating more complicated for customers. So 0.5 is the maximum.\n",
    "\n",
    "    \n",
    "2) conveient and easy for customer to give their satisfaction rating at end of each stay. \n",
    "\n",
    "3) easy to understand for customers to filter listings based on rating benchmark.\n",
    "\n",
    "4) orderly and clean data storage for airbnb. It makes it easy to filter and analyze as well\n",
    "\n"
   ]
  },
  {
   "cell_type": "markdown",
   "metadata": {},
   "source": [
    "#### Q2. Why was there a need to filter reviews greater than 0 in question 2 and 4?  <font color='red'>(5 marks)</font>"
   ]
  },
  {
   "cell_type": "code",
   "execution_count": null,
   "metadata": {},
   "outputs": [],
   "source": [
    "# Answer: \n",
    "\n",
    "Both questions relates to overall_satisfaction. \n",
    "\n",
    "If there are no reviews, it means there are no overall_satisfaction rating.\n",
    "If there are no overall_satisfaction, the default rating will be set to 0.\n",
    "\n",
    "If this 0 rating is included in the calculation of average overall_satisfaction for Q2, it will create a biased view.\n",
    "As it will only bring down the value of average overall_satisfaction.\n",
    "Also, if it was sketched out on a graph, it will definitely cause a right-skewed distribution as compared to\n",
    "omitting listings with 0 reviews.\n",
    "\n",
    "For Q4, it will significantly increase the count of 0 ratings although it does not affect the other counts.\n",
    "\n",
    "Hence, only listings with authentic and actual reviews are taken into considerations for Q2 and Q4 to\n",
    "provide a more accurate average overall_satisfaction score and a more evenly distributed and accurate counts.\n",
    "\n"
   ]
  },
  {
   "cell_type": "markdown",
   "metadata": {},
   "source": [
    "<hr>\n",
    "</hr>\n",
    "<h2> AirBnB Visualisation and Price Recommender App <font color='red'>(60 marks)</font></h2>\n",
    "\n",
    "<b>Attempts to create the functions are awarded 2 marks each</b>\n",
    "\n",
    "<b>Scenario:</b>\n",
    "\n",
    "Based on the earlier EDA, we have seen that it is not modular and does not allow the AirBnB team to look into each neighborhood. Nevertheless, the AirBnB data team have tasked you to build a simple application to improve the earlier EDA while serving its 2 users: Guests and Hosts. \n",
    "\n",
    "<b>Your objective:</b> Develop an <b><i>app</i></b> which will serve the 2 main users:\n",
    "1. Guests\n",
    "    - Visualisation tool to recommend them the best listings based on price and overall satisfaction score in a neighborhood\n",
    "2. Hosts\n",
    "    - Recommend a price to set for their listing in a given neighborhood based on better performing listings\n",
    "\n",
    "<hr>\n",
    "</hr>"
   ]
  },
  {
   "cell_type": "markdown",
   "metadata": {},
   "source": [
    "<div class=\"alert alert-block alert-danger\">\n",
    "<b>THIS NEXT CELL IS IMPORTANT FOR YOUR APPLICATION.</b> Run it to install this package called <b><i>mplleaflet</i></b>.\n",
    "    \n",
    "How do you know if you installed the library correctly? Try running the cell after this one <i>(not the line that says \"!pip install mplleaflet\", its the other one)</i>, if you don't get an error, you are good to go! \n",
    "\n",
    "If you face any issues, please contact any of your TAs or Instructors.</div>"
   ]
  },
  {
   "cell_type": "code",
   "execution_count": 398,
   "metadata": {},
   "outputs": [
    {
     "name": "stdout",
     "output_type": "stream",
     "text": [
      "Requirement already satisfied: mplleaflet in /Users/weelong/anaconda3/lib/python3.7/site-packages (0.0.5)\r\n",
      "Requirement already satisfied: jinja2 in /Users/weelong/anaconda3/lib/python3.7/site-packages (from mplleaflet) (2.10)\r\n",
      "Requirement already satisfied: six in /Users/weelong/anaconda3/lib/python3.7/site-packages (from mplleaflet) (1.12.0)\r\n",
      "Requirement already satisfied: MarkupSafe>=0.23 in /Users/weelong/anaconda3/lib/python3.7/site-packages (from jinja2->mplleaflet) (1.1.0)\r\n"
     ]
    }
   ],
   "source": [
    "!pip install mplleaflet"
   ]
  },
  {
   "cell_type": "markdown",
   "metadata": {},
   "source": [
    "How do you know if you installed the library correctly? Try running the next cell, if you don't get an error, you are good to go!"
   ]
  },
  {
   "cell_type": "code",
   "execution_count": 399,
   "metadata": {},
   "outputs": [],
   "source": [
    "import mplleaflet"
   ]
  },
  {
   "cell_type": "markdown",
   "metadata": {},
   "source": [
    "<hr></hr>\n",
    "\n",
    "<h2> Building the App </h2>\n",
    "\n",
    "To begin building the App, there are 2 things to do:\n",
    "1. Build the functions\n",
    "2. Test the functions \n",
    "\n",
    "<b>After we are done building the functions in part 1, we will test them in part 2</b>"
   ]
  },
  {
   "cell_type": "markdown",
   "metadata": {},
   "source": [
    "<div class=\"alert alert-block alert-danger\">\n",
    "Every single function you create must have the <b><i>airbnb_data</b></i> variable as the <b><i>first</b></i> parameter so that you can use it inside the function. \n",
    "</div>\n",
    "\n",
    "``` python\n",
    "def example_function_1(data, x, y, ..):\n",
    "    for i in data:\n",
    "        print(i)\n",
    "\n",
    "# when using it.. notice that airbnb_data is placed first, followed by the other parameters\n",
    "example_function_1(airbnb_data, some_x, some_y, ...)\n",
    "```\n",
    "\n",
    "There are a total of 5 functions:\n",
    "1. `get_all_latitudes`\n",
    "2. `get_all_longitudes`\n",
    "3. `listings_recommender`\n",
    "4. `price_recommender`\n",
    "5. `visualise_listings`"
   ]
  },
  {
   "cell_type": "markdown",
   "metadata": {},
   "source": [
    "### `get_all_latitudes()` - Functions to get all latitudes given a list of listing_ids <font color='red'>(2 marks)</font>\n",
    "\n",
    "<br>\n",
    "\n",
    "<b>Input</b>: `airbnb_data` as `data`, a `list` of listing_ids\n",
    "\n",
    "<b>Return</b>: A `list` of latitudes\n"
   ]
  },
  {
   "cell_type": "code",
   "execution_count": 402,
   "metadata": {},
   "outputs": [],
   "source": [
    "#Write code below\n",
    "\n",
    "def get_all_latitude(data, id_list):\n",
    "    \n",
    "    listing_ids = ''\n",
    "    latitudes = 0.0   \n",
    "    latitude_list = []\n",
    "    \n",
    "    for row_dictionary in data:\n",
    "        listing_ids = row_dictionary['listing_id']\n",
    "        latitudes = row_dictionary['latitude']  \n",
    "               \n",
    "        for ids in id_list:\n",
    "            \n",
    "            if ids == listing_ids:\n",
    "                \n",
    "                latitude_list.append(latitudes)\n",
    "                          \n",
    "    return latitude_list\n"
   ]
  },
  {
   "cell_type": "markdown",
   "metadata": {},
   "source": [
    "<b>Tester Cell</b> - To test the above function to see if it's working.\n",
    "\n",
    "<b>Expected Output:</b>\n",
    "\n",
    "    [1.311147]"
   ]
  },
  {
   "cell_type": "code",
   "execution_count": 403,
   "metadata": {},
   "outputs": [
    {
     "data": {
      "text/plain": [
       "[1.311147]"
      ]
     },
     "execution_count": 403,
     "metadata": {},
     "output_type": "execute_result"
    }
   ],
   "source": [
    "get_all_latitude(airbnb_data, ['12367758'])"
   ]
  },
  {
   "cell_type": "code",
   "execution_count": null,
   "metadata": {},
   "outputs": [],
   "source": []
  },
  {
   "cell_type": "markdown",
   "metadata": {},
   "source": [
    "### `get_all_longitudes()` - Functions to get all longitudes given a list of listing_ids <font color='red'>(2 marks)</font>\n",
    "\n",
    "<br>\n",
    "\n",
    "<b>Input</b>: `airbnb_data` as `data`, a `list` of listing_ids\n",
    "\n",
    "<b>Return</b>: A `list` of longitudes"
   ]
  },
  {
   "cell_type": "code",
   "execution_count": 407,
   "metadata": {},
   "outputs": [],
   "source": [
    "#Write code below\n",
    "def get_all_longitude(data, id_list):\n",
    "    \n",
    "    listing_ids = ''\n",
    "    longitudes = 0.0 \n",
    "    longitude_list = []\n",
    "    \n",
    "    for row_dictionary in data:\n",
    "        listing_ids = row_dictionary['listing_id']\n",
    "        longitudes = row_dictionary['longitude']  \n",
    "               \n",
    "        for ids in id_list:\n",
    "            \n",
    "            if ids == listing_ids:\n",
    "                \n",
    "                longitude_list.append(longitudes)\n",
    "                          \n",
    "    return longitude_list\n",
    "    "
   ]
  },
  {
   "cell_type": "markdown",
   "metadata": {},
   "source": [
    "<b>Tester Cell</b> - To test the above function to see if it's working.\n",
    "\n",
    "<b>Expected Output:</b>\n",
    "\n",
    "    [103.857933]"
   ]
  },
  {
   "cell_type": "code",
   "execution_count": 408,
   "metadata": {},
   "outputs": [
    {
     "data": {
      "text/plain": [
       "[103.857933]"
      ]
     },
     "execution_count": 408,
     "metadata": {},
     "output_type": "execute_result"
    }
   ],
   "source": [
    "get_all_longitude(airbnb_data, ['12367758'])"
   ]
  },
  {
   "cell_type": "markdown",
   "metadata": {},
   "source": [
    "### `listings_recommender()` - Function to recommend all listings based on a given price, satisfaction score and neighborhood <font color='red'>(2 marks)</font>\n",
    "\n",
    "Note:\n",
    "1. Lesser than or equal to that price\n",
    "2. Equal or more than that overall satisfaction score\n",
    "3. In that neighborhood\n",
    "\n",
    "<b>Input</b>: `airbnb_data` as `data`, price, overall_satisfaction, neighborhood_id\n",
    "\n",
    "<b>Return</b>: A `list` of listing_ids"
   ]
  },
  {
   "cell_type": "code",
   "execution_count": 406,
   "metadata": {},
   "outputs": [],
   "source": [
    "#Write code below\n",
    "def listings_recommender(data, price, satisfact_score, neigh_id):\n",
    "    \n",
    "    neighborhoods_id = ''\n",
    "    overall_satisfactions = 0.0\n",
    "    prices = 0.0\n",
    "    listing_ids = ''    \n",
    "    recommended_list = []\n",
    "    \n",
    "    for row_dictionary in data:\n",
    "        neighborhoods_id        = row_dictionary['neighborhood']\n",
    "        overall_satisfactions   = row_dictionary['overall_satisfaction']\n",
    "        prices                  = row_dictionary['price']\n",
    "        listing_ids             = row_dictionary['listing_id']\n",
    "        \n",
    "        if prices <= price and overall_satisfactions>= satisfact_score and neighborhoods_id == neigh_id:\n",
    "            recommended_list.append(listing_ids)\n",
    "            \n",
    "        else: \n",
    "            continue\n",
    "        \n",
    "    return recommended_list\n",
    "    \n",
    "    "
   ]
  },
  {
   "cell_type": "markdown",
   "metadata": {},
   "source": [
    "<b>Tester Cell</b> - To test the above function to see if it's working.\n",
    "\n",
    "<b>Expected Output:</b>\n",
    "\n",
    "    ['10350448',\n",
    "     '13507262',\n",
    "     '13642646',\n",
    "     '15099645',\n",
    "     '6451493',\n",
    "     '4696031',\n",
    "     '2898794',\n",
    "     '13181050',\n",
    "     '9022211',\n",
    "     '5200263',\n",
    "     '6529707',\n",
    "     '14433262']"
   ]
  },
  {
   "cell_type": "code",
   "execution_count": 409,
   "metadata": {},
   "outputs": [
    {
     "data": {
      "text/plain": [
       "['10350448',\n",
       " '13507262',\n",
       " '13642646',\n",
       " '15099645',\n",
       " '6451493',\n",
       " '4696031',\n",
       " '2898794',\n",
       " '13181050',\n",
       " '9022211',\n",
       " '5200263',\n",
       " '6529707',\n",
       " '14433262']"
      ]
     },
     "execution_count": 409,
     "metadata": {},
     "output_type": "execute_result"
    }
   ],
   "source": [
    "listings_recommender(airbnb_data, 60, 5, 'MK03')"
   ]
  },
  {
   "cell_type": "markdown",
   "metadata": {},
   "source": [
    "### `price_recommender()` - Function to recommend a price in a neighborhood based on average price and overall satisfaction <font color='red'>(2 marks)</font>\n",
    "\n",
    "For this function, we want to build a <b><i>simple</i></b> price recommendation function that will give a potential host a suggested price.\n",
    "\n",
    "To build this, these are the requirements: \n",
    "1. Take all listings in that neighborhood and check for listings with a least 1 review and an overall satisfaction score of 4 or more.\n",
    "2. From that filtered listings, calculate the average price and return that as the suggested price rounded to 2 decimal places.\n",
    "\n",
    "<b>Input</b>: `airbnb_data` as `data`, a neighborhood_id\n",
    "\n",
    "<b>Return</b>: A `float` of recommended price"
   ]
  },
  {
   "cell_type": "code",
   "execution_count": 412,
   "metadata": {},
   "outputs": [
    {
     "name": "stdout",
     "output_type": "stream",
     "text": [
      "Recommended price for MK03 is $77.29\n"
     ]
    }
   ],
   "source": [
    "#Write code below\n",
    "def price_recommender(data, neigh_id):\n",
    "    \n",
    "    neighborhoods_id = ''\n",
    "    overall_satisfactions = 0.0\n",
    "    prices = 0.0\n",
    "    listing_ids = '' \n",
    "    reviews = ''\n",
    "    filtered_listing_price = []\n",
    "    average_price = 0.0\n",
    "    \n",
    "    for row_dict in data:\n",
    "        \n",
    "        neighborhoods_id = row_dict['neighborhood']\n",
    "        reviews = row_dict['reviews']\n",
    "        overall_satisfactions = row_dict['overall_satisfaction']\n",
    "        prices = row_dict['price']\n",
    "        \n",
    "        if reviews > 0 and overall_satisfactions >= 4.0 and neigh_id == neighborhoods_id:\n",
    "            filtered_listing_price.append(prices)\n",
    "            \n",
    "            total_price = sum(filtered_listing_price)\n",
    "            total_listing = len(filtered_listing_price)\n",
    "            \n",
    "            average_price = total_price/total_listing\n",
    "    \n",
    "    recommended_price = round(average_price,2)\n",
    "    \n",
    "    return print(f'Recommended price for {neigh_id} is ${recommended_price}')\n",
    "            \n",
    "\n",
    "price_recommender(airbnb_data, 'MK03')"
   ]
  },
  {
   "cell_type": "markdown",
   "metadata": {},
   "source": [
    "### `visualise_listings()` - Function to geographically visualise a given list of listings <font color='red'>(2 marks)</font>\n",
    "\n",
    "<div class=\"alert alert-block alert-info\">\n",
    "Use the <b><i>mplleaflet</b></i> library. Normally you would do <b><i>'plt.show()'</b></i> to show your visualisation. Do the same thing, but just do <b><i>'mplleaflet.show()'</b></i>, instead of <b><i>'plt.show()'</b></i>.\n",
    "</div>\n",
    "\n",
    "<b>Input</b>: `airbnb_data` as `data`, a list of listing_ids\n",
    "\n",
    "<b>Output</b>: Visualisation of locations the listings (nothing to return)\n"
   ]
  },
  {
   "cell_type": "code",
   "execution_count": 427,
   "metadata": {},
   "outputs": [],
   "source": [
    "# Remember to import the relevant library/libraries!\n",
    "import mplleaflet\n",
    "import matplotlib.pyplot as plt\n",
    "\n",
    "#Write code below\n",
    "\n",
    "def visualise_listings(data, id_listing):\n",
    "     \n",
    "    latitudes =  get_all_latitude(data, id_listing)\n",
    "    longitudes = get_all_longitude(data, id_listing)\n",
    "\n",
    "    plt.scatter(longitudes, latitudes)\n",
    "\n",
    "    return mplleaflet.show()\n"
   ]
  },
  {
   "cell_type": "markdown",
   "metadata": {},
   "source": [
    "<b>Tester Cell</b> - To test the above function to see if it's working.\n",
    "\n",
    "<b>Expected Output:</b> A visualisation should appear as a new tab in your browser. The listing is between Kitchener Road and Somme Road."
   ]
  },
  {
   "cell_type": "code",
   "execution_count": 428,
   "metadata": {},
   "outputs": [],
   "source": [
    "visualise_listings(airbnb_data, ['12367758'])"
   ]
  },
  {
   "cell_type": "markdown",
   "metadata": {},
   "source": [
    "#### More functions of your own if you want... (no bonus marks given :'') )"
   ]
  },
  {
   "cell_type": "code",
   "execution_count": null,
   "metadata": {},
   "outputs": [],
   "source": []
  },
  {
   "cell_type": "markdown",
   "metadata": {},
   "source": [
    "<h2> Testing </h2>\n",
    "\n",
    "Here, we will test if your functions are working as they are supposed to.\n",
    "<div class=\"alert alert-block alert-info\">\n",
    "<b>Your task</b>: Use the functions created above, if necessary interchangeably, to answer the questions below.\n",
    "</div>\n",
    "<hr></hr>"
   ]
  },
  {
   "cell_type": "markdown",
   "metadata": {},
   "source": [
    "<h3> User - An Airbnb Host </h3>\n",
    "\n",
    "Imagine now you're an Airbnb host and you are going to use the app you've developed to ask for a recommended price to list your place. \n",
    "\n",
    "<h4> Based on your assigned neighborhood, what is the recommended price for your neighborhood <font color='red'>(15 marks)</font></h4>\n",
    "\n",
    "<b>Expected output:</b> 66.28"
   ]
  },
  {
   "cell_type": "code",
   "execution_count": 429,
   "metadata": {},
   "outputs": [
    {
     "name": "stdout",
     "output_type": "stream",
     "text": [
      "Recommended price for TS17 is $66.28\n"
     ]
    }
   ],
   "source": [
    "neighborhood_to_test = 'TS17'\n",
    "\n",
    "#Write code below\n",
    "\n",
    "price_recommender(airbnb_data, 'TS17')"
   ]
  },
  {
   "cell_type": "markdown",
   "metadata": {},
   "source": [
    "<h3> User - An Airbnb Guest </h3>\n",
    "\n",
    "Imagine now you're an Airbnb guest and you are going to use the app to find a list of listings you want based on your search filter/restrictions.\n",
    "\n",
    "<h4> Based on your assigned price, overall_satisfaction and neighborhood, using the functions created above and plot them out on a map <font color='red'>(35 marks)</font></h4>\n",
    "\n",
    "<b>Expected output:</b> Visualisation should show the listings are in the Boon Keng / Farrer Park areas\n",
    "\n",
    "<i>If it's working, a new tab will pop out. This is normal.</i>"
   ]
  },
  {
   "cell_type": "code",
   "execution_count": 430,
   "metadata": {},
   "outputs": [],
   "source": [
    "neighborhood_to_test = 'TS17'\n",
    "price_to_test = 100\n",
    "overall_satisfaction_to_test = 4\n",
    "\n",
    "#Write code below\n",
    "\n",
    "recommended_list = listings_recommender(airbnb_data, price_to_test , overall_satisfaction_to_test , neighborhood_to_test)\n",
    "\n",
    "visualise_listings(airbnb_data, recommended_list)\n"
   ]
  }
 ],
 "metadata": {
  "kernelspec": {
   "display_name": "Python 3",
   "language": "python",
   "name": "python3"
  },
  "language_info": {
   "codemirror_mode": {
    "name": "ipython",
    "version": 3
   },
   "file_extension": ".py",
   "mimetype": "text/x-python",
   "name": "python",
   "nbconvert_exporter": "python",
   "pygments_lexer": "ipython3",
   "version": "3.7.1"
  }
 },
 "nbformat": 4,
 "nbformat_minor": 2
}
